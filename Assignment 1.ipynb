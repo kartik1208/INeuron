{
 "cells": [
  {
   "cell_type": "markdown",
   "metadata": {},
   "source": [
    "## Task 1"
   ]
  },
  {
   "cell_type": "code",
   "execution_count": 19,
   "metadata": {},
   "outputs": [
    {
     "name": "stdout",
     "output_type": "stream",
     "text": [
      "2030,2065,2100,2135,2170,2205,2240,2275,2310,2345,2380,2415,2450,2485,2520,2555,2590,2625,2660,2695,2730,2765,2800,2835,2870,2905,2940,2975,3010,3045,3080,3115,3150,3185,"
     ]
    }
   ],
   "source": [
    "'''\n",
    "2. Write a program which will find all such numbers which are divisible by 7 but are not a multiple of 5,\n",
    "between 2000 and 3200 (both included). \n",
    "The numbers obtained should be printed in a comma-separated sequence on a single line.\n",
    "'''\n",
    "\n",
    "i=[]\n",
    "for i in range(2000,3201):\n",
    "    if i%7==0 and i%5==0:\n",
    "        print(i,end=',')"
   ]
  },
  {
   "cell_type": "code",
   "execution_count": 20,
   "metadata": {},
   "outputs": [
    {
     "name": "stdout",
     "output_type": "stream",
     "text": [
      "enter your first name:kartik\n",
      "enter your last name:kumar\n",
      "kartik kumar\n",
      "kumar kartik\n"
     ]
    }
   ],
   "source": [
    "'''\n",
    "3. Write a Python program to accept the user's first and\n",
    "last name and then getting them printed in the the reverse order with\n",
    "a space between first name and last name.\n",
    "'''\n",
    "first_name=input(\"enter your first name:\")\n",
    "last_name=input(\"enter your last name:\")\n",
    "full_name=first_name+\" \"+last_name\n",
    "rev_name=last_name +\" \"+first_name\n",
    "print(full_name)\n",
    "print(rev_name)\n",
    "#print(full_name[::-1])"
   ]
  },
  {
   "cell_type": "code",
   "execution_count": 21,
   "metadata": {},
   "outputs": [
    {
     "data": {
      "text/plain": [
       "904.3199999999999"
      ]
     },
     "execution_count": 21,
     "metadata": {},
     "output_type": "execute_result"
    }
   ],
   "source": [
    "'''\n",
    "4. Write a Python program to find the volume of a sphere with diameter 12 cm.\n",
    "\n",
    "Formula: V=4/3 * π * r3 \n",
    "'''\n",
    "def vol(d):\n",
    "    vol=(4/3*3.14*((d*0.5)**3))\n",
    "    return vol\n",
    "    \n",
    "    \n",
    "vol(12)   "
   ]
  },
  {
   "cell_type": "markdown",
   "metadata": {},
   "source": [
    "## Task 2"
   ]
  },
  {
   "cell_type": "code",
   "execution_count": 25,
   "metadata": {},
   "outputs": [
    {
     "name": "stdout",
     "output_type": "stream",
     "text": [
      "kartik,kumar,1,2,3ff\n"
     ]
    },
    {
     "data": {
      "text/plain": [
       "['kartik', 'kumar', '1', '2', '3ff']"
      ]
     },
     "execution_count": 25,
     "metadata": {},
     "output_type": "execute_result"
    }
   ],
   "source": [
    "'''\n",
    "1. Write a program which accepts a sequence of comma-separated numbers from console and\n",
    "generate a list.\n",
    "\n",
    "'''\n",
    "num=input()\n",
    "list1=num.split(\",\")\n",
    "list1"
   ]
  },
  {
   "cell_type": "code",
   "execution_count": 24,
   "metadata": {},
   "outputs": [
    {
     "name": "stdout",
     "output_type": "stream",
     "text": [
      "* \n",
      "\n",
      "* * \n",
      "\n",
      "* * * \n",
      "\n",
      "* * * * \n",
      "\n",
      "* * * * * \n",
      "\n",
      "* * * * \n",
      "\n",
      "* * * \n",
      "\n",
      "* * \n",
      "\n",
      "* \n",
      "\n"
     ]
    }
   ],
   "source": [
    "'''\n",
    "2. Create the below pattern using nested for loop in Python.\n",
    " \n",
    "'''\n",
    "for x in range(0,9):\n",
    "    if(x<= 4):\n",
    "        for y in range(0,x+1):\n",
    "            print(\"*\", end=\" \")\n",
    "        print(\"\\n\")\n",
    "    else:\n",
    "        for y in range(x,9):\n",
    "            print(\"*\", end=\" \")\n",
    "        print(\"\\n\")\n",
    "\n",
    "        "
   ]
  },
  {
   "cell_type": "code",
   "execution_count": 4,
   "metadata": {},
   "outputs": [
    {
     "name": "stdout",
     "output_type": "stream",
     "text": [
      "enter your name: kartik\n",
      "kitrak\n"
     ]
    }
   ],
   "source": [
    "'''\n",
    "3. Write a Python program to reverse a word after accepting the input from the user.\n",
    "'''\n",
    "name=input(\"enter your name: \" )\n",
    "print(name[::-1])\n",
    "    \n",
    "    \n",
    "    "
   ]
  },
  {
   "cell_type": "code",
   "execution_count": 3,
   "metadata": {},
   "outputs": [
    {
     "name": "stdout",
     "output_type": "stream",
     "text": [
      "WE,THE PEOPLE OF INDIA,\n",
      "\thaving solemnly resolved to constitute india into a SOVEREIGN,!\n",
      "\t\tSOCIALIST,SECULAR,DEMOCRATIC REPUBLIC,\n",
      "\t\tand to secure to all its citizens\n"
     ]
    }
   ],
   "source": [
    "'''\n",
    "4. Write a Python Program to print the given string in the format specified in the sample output.\n",
    "WE, THE PEOPLE OF INDIA, having solemnly resolved to constitute India into a\n",
    "SOVEREIGN, SOCIALIST, SECULAR, DEMOCRATIC REPUBLIC and to secure to all\n",
    "its citizens\n",
    "Sample Output:\n",
    "WE, THE PEOPLE OF INDIA,\n",
    "      having solemnly resolved to constitute India into a SOVEREIGN, !\n",
    "         SOCIALIST, SECULAR, DEMOCRATIC REPUBLIC\n",
    "          and to secure to all its citizens\n",
    "\n",
    "'''\n",
    "in_sen=\"WE,THE PEOPLE OF INDIA,\\n\\thaving solemnly resolved to constitute india into a SOVEREIGN,!\\n\\t\\tSOCIALIST,SECULAR,DEMOCRATIC REPUBLIC,\\n\\t\\tand to secure to all its citizens\"\n",
    "print(in_sen)\n"
   ]
  },
  {
   "cell_type": "code",
   "execution_count": null,
   "metadata": {},
   "outputs": [],
   "source": []
  }
 ],
 "metadata": {
  "kernelspec": {
   "display_name": "Python 3",
   "language": "python",
   "name": "python3"
  },
  "language_info": {
   "codemirror_mode": {
    "name": "ipython",
    "version": 3
   },
   "file_extension": ".py",
   "mimetype": "text/x-python",
   "name": "python",
   "nbconvert_exporter": "python",
   "pygments_lexer": "ipython3",
   "version": "3.7.3"
  }
 },
 "nbformat": 4,
 "nbformat_minor": 2
}
