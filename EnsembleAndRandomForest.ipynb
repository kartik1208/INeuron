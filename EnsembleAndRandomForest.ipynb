{
  "nbformat": 4,
  "nbformat_minor": 0,
  "metadata": {
    "kernelspec": {
      "display_name": "Python 3",
      "language": "python",
      "name": "python3"
    },
    "language_info": {
      "codemirror_mode": {
        "name": "ipython",
        "version": 3
      },
      "file_extension": ".py",
      "mimetype": "text/x-python",
      "name": "python",
      "nbconvert_exporter": "python",
      "pygments_lexer": "ipython3",
      "version": "3.7.4"
    },
    "colab": {
      "name": "EnsembleAndRandomForest.ipynb",
      "provenance": []
    }
  },
  "cells": [
    {
      "cell_type": "markdown",
      "metadata": {
        "id": "3hpyN5bP2zCD",
        "colab_type": "text"
      },
      "source": [
        "## Ensemble and Random Forest"
      ]
    },
    {
      "cell_type": "markdown",
      "metadata": {
        "id": "aVbYO33Q2zCG",
        "colab_type": "text"
      },
      "source": [
        "1)\tWhat do you understand by Ensemble technique? \n"
      ]
    },
    {
      "cell_type": "markdown",
      "metadata": {
        "id": "6g5MQ6ts3KzA",
        "colab_type": "text"
      },
      "source": [
        "In Ensemble technique,we use multiple model prediction and combine them as average to obtain a single powerful prediction."
      ]
    },
    {
      "cell_type": "markdown",
      "metadata": {
        "id": "Lt2n9q-f2zCQ",
        "colab_type": "text"
      },
      "source": [
        "2)\tExplain the idea behind ensemble techniques.\n"
      ]
    },
    {
      "cell_type": "markdown",
      "metadata": {
        "id": "ma8SIKYG2zCQ",
        "colab_type": "text"
      },
      "source": [
        "Idea behind ensemble techniques is simply that poll of different different predictors combinely gives better result.It is applicable for both classifier and regressor.In classifier,more occuring result will be our prediction."
      ]
    },
    {
      "cell_type": "markdown",
      "metadata": {
        "id": "uNFrXsrt2zCT",
        "colab_type": "text"
      },
      "source": [
        "3)\tWhat is Bootstrapping? How is sampling done in bootstrapping?\n"
      ]
    },
    {
      "cell_type": "markdown",
      "metadata": {
        "id": "WOZ4rxwZ2zCU",
        "colab_type": "text"
      },
      "source": [
        "Taking different different samples of same training data and applying models on them called Bootstrapping.Sampling is done using replacement."
      ]
    },
    {
      "cell_type": "markdown",
      "metadata": {
        "id": "P4-y81UZ2zCW",
        "colab_type": "text"
      },
      "source": [
        "4)\tWhat is bagging?\n"
      ]
    },
    {
      "cell_type": "markdown",
      "metadata": {
        "id": "3oy2d4O72zCY",
        "colab_type": "text"
      },
      "source": [
        "Bagging is the type of ensemble technique in which a single training algorithm is used on different subsets of the training data where the subset sampling is done with replacement (bootstrap)."
      ]
    },
    {
      "cell_type": "markdown",
      "metadata": {
        "id": "2knr4Ejg2zCZ",
        "colab_type": "text"
      },
      "source": [
        "5)\tHow prediction is made in Bagging?\n"
      ]
    },
    {
      "cell_type": "markdown",
      "metadata": {
        "id": "GHCzWFw02zCa",
        "colab_type": "text"
      },
      "source": [
        "Prediction is made by aggregating all the predictions made by the algorithm on different subsets. In case of regression, bagging prediction is simply the mean of all the predictions and in the case of classifier, bagging prediction is the most frequent prediction (majority vote) among all the predictions."
      ]
    },
    {
      "cell_type": "markdown",
      "metadata": {
        "id": "tUQASouG2zCa",
        "colab_type": "text"
      },
      "source": [
        "6)\tHow Ensemble technique solves the high variance issue with Decision trees?\n"
      ]
    },
    {
      "cell_type": "markdown",
      "metadata": {
        "id": "a1jCHEaz2zCc",
        "colab_type": "text"
      },
      "source": [
        "As we take mean of variance because each subsets have their own prediction and variance.And taking mean decrease the value of Variance."
      ]
    },
    {
      "cell_type": "markdown",
      "metadata": {
        "id": "rFKOqWqe2zCe",
        "colab_type": "text"
      },
      "source": [
        "7)\tWhat is pasting? How is it different from bagging?\n"
      ]
    },
    {
      "cell_type": "markdown",
      "metadata": {
        "id": "UrbjyDu92zCf",
        "colab_type": "text"
      },
      "source": [
        "Pasting is an ensemble technique similar to bagging with the only difference being that there is no replacement done while sampling the training dataset. This causes less diversity in the sampled datasets and data ends up being correlated. That's why bagging is more preffered than pasting in real scenarios."
      ]
    },
    {
      "cell_type": "markdown",
      "metadata": {
        "id": "52qKeuVS2zCh",
        "colab_type": "text"
      },
      "source": [
        "8)\tWhat is Out Of Bag evaluation?\n"
      ]
    },
    {
      "cell_type": "markdown",
      "metadata": {
        "id": "R3AcBBXw2zCi",
        "colab_type": "text"
      },
      "source": [
        "In bagging, when different samples are collected, no sample contains all the data but a fraction of the original dataset. There might be some data which are never sampled at all. The remaining data which are not sampled are called out of bag instances. "
      ]
    },
    {
      "cell_type": "markdown",
      "metadata": {
        "id": "p6VMnPic2zCj",
        "colab_type": "text"
      },
      "source": [
        "9)\tHow does a Random Forest model works?\n"
      ]
    },
    {
      "cell_type": "markdown",
      "metadata": {
        "id": "q7rClmQz2zCj",
        "colab_type": "text"
      },
      "source": [
        "1) Just like in bagging, different samples are collected from the training dataset using bootstraping.\n",
        "\n",
        "2) On each sample we train our tree model and we allow the trees to grow with high depths.\n",
        "\n",
        "3) Once the trees are formed, prediction is made by the random forest by aggregating the predictions of all the model. For regression model, the mean of all the predictions is the final prediction and for classification mode, the mode of all the predictions is considered the final predictions."
      ]
    },
    {
      "cell_type": "markdown",
      "metadata": {
        "id": "C9WlppQ12zCk",
        "colab_type": "text"
      },
      "source": [
        "10)\tWhat is the difference between Bagging and Random forest? Why do we use Random forest more commonly than Bagging?\n"
      ]
    },
    {
      "cell_type": "markdown",
      "metadata": {
        "id": "gfwdVar32zCl",
        "colab_type": "text"
      },
      "source": [
        "In Bagging,there is no much independency in sampled datasets.And,There exist some correlation.While,In Random Forest,there is no much correlation as there is tree involved in making subsets of datasets.\n",
        "We use Random Forest more commonly because there is more randomness in subsets of data and there will be less correlation than bagging."
      ]
    },
    {
      "cell_type": "markdown",
      "metadata": {
        "id": "iX7B6TxP2zCm",
        "colab_type": "text"
      },
      "source": [
        "11)\tWhat is feature sampling? \n"
      ]
    },
    {
      "cell_type": "markdown",
      "metadata": {
        "id": "9bAu2dnI2zCo",
        "colab_type": "text"
      },
      "source": [
        "Taking of m=root under p,where p is the number of predictors in the sample."
      ]
    },
    {
      "cell_type": "markdown",
      "metadata": {
        "id": "2Td8DZmT2zCq",
        "colab_type": "text"
      },
      "source": [
        "12)\tHow prediction is made in Random Forest?"
      ]
    },
    {
      "cell_type": "markdown",
      "metadata": {
        "id": "owfxWwAF2zCr",
        "colab_type": "text"
      },
      "source": [
        "Prediction is made by the random forest by aggregating the predictions of all the model. For regression model, the mean of all the predictions is the final prediction and for classification mode, the mode of all the predictions is considered the final predictions."
      ]
    },
    {
      "cell_type": "markdown",
      "metadata": {
        "id": "SuHNDhKg2zCs",
        "colab_type": "text"
      },
      "source": [
        "\n",
        "13)\tWhen should we not use Random forest model?\n"
      ]
    },
    {
      "cell_type": "markdown",
      "metadata": {
        "id": "dMaDFYi42zCu",
        "colab_type": "text"
      },
      "source": [
        "When the numbers of features is very big as Results of a random forest are very hard to interpret in comparison with decision trees,High computational time than other respective models."
      ]
    },
    {
      "cell_type": "markdown",
      "metadata": {
        "id": "ShIHNb-S2zCu",
        "colab_type": "text"
      },
      "source": [
        "14)\tWhat is Stacking?"
      ]
    },
    {
      "cell_type": "markdown",
      "metadata": {
        "id": "pwyABwpJ2zCv",
        "colab_type": "text"
      },
      "source": [
        "Stacking is a type of ensemble technique which combines the predictions of two or more models, also called base models, and use the combination as the input for a new model (meta-model) i.e. a new model is trained on the predictions of the base models."
      ]
    },
    {
      "cell_type": "markdown",
      "metadata": {
        "id": "8HWbFZHJ2zCw",
        "colab_type": "text"
      },
      "source": [
        "\n",
        "15)\tExplain the working behind Stacking. "
      ]
    },
    {
      "cell_type": "markdown",
      "metadata": {
        "id": "jxJlIkSD2zCw",
        "colab_type": "text"
      },
      "source": [
        "Suppose you have a classification problem and you can use several models like logistic regression, SVM, KNN, Random forest etc. The idea is to use few models like KNN, SVM as the base model and make predictions using these models. Now the predictions made by these models are used as an input feature for Random forest to train on and give prediction."
      ]
    },
    {
      "cell_type": "code",
      "metadata": {
        "id": "V1qy2U8mFKtK",
        "colab_type": "code",
        "colab": {}
      },
      "source": [
        ""
      ],
      "execution_count": null,
      "outputs": []
    }
  ]
}